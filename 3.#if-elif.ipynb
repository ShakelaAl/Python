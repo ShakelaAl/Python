{
 "cells": [
  {
   "cell_type": "code",
   "execution_count": 1,
   "metadata": {},
   "outputs": [
    {
     "name": "stdout",
     "output_type": "stream",
     "text": [
      "\n"
     ]
    }
   ],
   "source": [
    "#if-elif\n",
    "if():\n",
    "     print()\n",
    "elif():\n",
    "     print()\n",
    "elif():\n",
    "     print()\n",
    "else:\n",
    "    print()"
   ]
  },
  {
   "cell_type": "markdown",
   "metadata": {},
   "source": [
    "bmi<18-->Under Waight\n",
    "bmi<25-->Normal Waight\n",
    "bmi<30-->Over Waight\n",
    "bmi<35-->Very Over Waight"
   ]
  },
  {
   "cell_type": "code",
   "execution_count": 2,
   "metadata": {},
   "outputs": [
    {
     "name": "stdout",
     "output_type": "stream",
     "text": [
      "Enter the bmi:34\n"
     ]
    }
   ],
   "source": [
    "bmi=int(input(\"Enter the bmi:\"))"
   ]
  },
  {
   "cell_type": "code",
   "execution_count": 3,
   "metadata": {},
   "outputs": [
    {
     "name": "stdout",
     "output_type": "stream",
     "text": [
      "Very Over Waight\n"
     ]
    }
   ],
   "source": [
    "if(bmi<18):\n",
    "    print(\"Under Waight\")\n",
    "elif(bmi<25):\n",
    "    print(\"Normal Waight\")\n",
    "elif(bmi<30):\n",
    "    print(\"Over Waight\")\n",
    "else:\n",
    "    print(\"Very Over Waight\")"
   ]
  },
  {
   "cell_type": "code",
   "execution_count": null,
   "metadata": {},
   "outputs": [],
   "source": []
  }
 ],
 "metadata": {
  "kernelspec": {
   "display_name": "Python 3",
   "language": "python",
   "name": "python3"
  },
  "language_info": {
   "codemirror_mode": {
    "name": "ipython",
    "version": 3
   },
   "file_extension": ".py",
   "mimetype": "text/x-python",
   "name": "python",
   "nbconvert_exporter": "python",
   "pygments_lexer": "ipython3",
   "version": "3.7.4"
  }
 },
 "nbformat": 4,
 "nbformat_minor": 2
}
